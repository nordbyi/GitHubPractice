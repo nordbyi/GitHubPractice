{
 "cells": [
  {
   "cell_type": "markdown",
   "id": "artificial-september",
   "metadata": {},
   "source": [
    "# Practice with ipywidgets, Pandas, Matplotlib and Jupyter Notebook, yay!\n"
   ]
  },
  {
   "cell_type": "markdown",
   "id": "quarterly-drink",
   "metadata": {},
   "source": [
    "## Import Libraries"
   ]
  },
  {
   "cell_type": "code",
   "execution_count": 1,
   "id": "driven-caution",
   "metadata": {},
   "outputs": [],
   "source": [
    "import ipywidgets as widgets\n",
    "from ipywidgets import interact_manual\n",
    "import pandas as pd\n",
    "import matplotlib.pyplot as plt\n",
    "import numpy as np"
   ]
  },
  {
   "cell_type": "markdown",
   "id": "impressive-tactics",
   "metadata": {},
   "source": [
    "## Read CSV and Add Datetime Column"
   ]
  },
  {
   "cell_type": "code",
   "execution_count": 2,
   "id": "duplicate-minneapolis",
   "metadata": {
    "scrolled": false
   },
   "outputs": [],
   "source": [
    "test = pd.read_csv('test_data.txt')\n",
    "test['Date'] = pd.to_datetime(test[['Year', 'Month']].assign(DAY=1))\n",
    "#test.head()"
   ]
  },
  {
   "cell_type": "markdown",
   "id": "isolated-collaboration",
   "metadata": {},
   "source": [
    "## Create Widget to Select Desired Companies"
   ]
  },
  {
   "cell_type": "code",
   "execution_count": 3,
   "id": "ignored-heaven",
   "metadata": {},
   "outputs": [],
   "source": [
    "select_companies = widgets.SelectMultiple(\n",
    "    options= sorted(set(test['Company Name'])),\n",
    "    value=['COMP-1'],\n",
    "    rows=len(sorted(set(test['Company Name']))),\n",
    "    description='Companies:',\n",
    "    disabled=False\n",
    ")"
   ]
  },
  {
   "cell_type": "markdown",
   "id": "upset-estimate",
   "metadata": {},
   "source": [
    "## Create Widget to Select Desired Timeframe"
   ]
  },
  {
   "cell_type": "code",
   "execution_count": 4,
   "id": "prescribed-geometry",
   "metadata": {
    "scrolled": true
   },
   "outputs": [],
   "source": [
    "dates = sorted(set(test['Date']))\n",
    "options = [(i.strftime('%b''%Y'), i) for i in dates]\n",
    "time_frame = widgets.SelectionRangeSlider(\n",
    "    options=options,\n",
    "    index=(0,len(options)-1),\n",
    "    description='Date Range:',\n",
    "    disabled=False,\n",
    "    layout={'width': '400px'}\n",
    ")"
   ]
  },
  {
   "cell_type": "markdown",
   "id": "independent-xerox",
   "metadata": {},
   "source": [
    "## Create Widget to Select Desired Plot Type"
   ]
  },
  {
   "cell_type": "code",
   "execution_count": 5,
   "id": "postal-variance",
   "metadata": {
    "scrolled": true
   },
   "outputs": [],
   "source": [
    "dropdown = widgets.Dropdown(\n",
    "    options= ['Line Plot', 'Stacked Bar', 'Donut', 'Pie Chart'],\n",
    "    value='Donut',\n",
    "    description='Chart Types:',\n",
    "    disabled=False,\n",
    ")"
   ]
  },
  {
   "cell_type": "markdown",
   "id": "constant-midwest",
   "metadata": {},
   "source": [
    "## Include Output Widget"
   ]
  },
  {
   "cell_type": "code",
   "execution_count": 6,
   "id": "durable-prisoner",
   "metadata": {},
   "outputs": [],
   "source": [
    "out = widgets.Output()"
   ]
  },
  {
   "cell_type": "markdown",
   "id": "satellite-evaluation",
   "metadata": {},
   "source": [
    "## Make Function to House Different Plots"
   ]
  },
  {
   "cell_type": "code",
   "execution_count": 9,
   "id": "sweet-square",
   "metadata": {},
   "outputs": [],
   "source": [
    "def make_plot():\n",
    "    out.clear_output\n",
    "    if dropdown.value == 'Pie Chart':\n",
    "        with out:\n",
    "            labels = select_companies.value\n",
    "            runs = []\n",
    "            for comp in labels:\n",
    "                comp_runs = test.loc[(test['Company Name'] == comp) \n",
    "                                     & (test['Date'] >= time_frame.value[0]) \n",
    "                                     & (test['Date'] <=time_frame.value[1])]\n",
    "                runs.append(sum(comp_runs['Num Runs']))\n",
    "            fig1, axl = plt.subplots(figsize=(12, 6))\n",
    "            axl.pie(runs, autopct=lambda p : '{:.2f}% \\n ({:,.0f})'.format(p,p * sum(runs)/100), \n",
    "                    shadow=True, startangle=90, textprops=dict(color='w', fontweight='bold'),\n",
    "                   pctdistance=.70)\n",
    "            axl.axis('equal')\n",
    "            axl.legend(labels,\n",
    "                      title=\"Companies\",\n",
    "                      loc=\"center left\",\n",
    "                      bbox_to_anchor=(1, 0, 0.5, 1))\n",
    "            plt.title('Runs by Company between {}-{}'.format((time_frame.value[0]).strftime('%b''%Y'),\n",
    "                                                                (time_frame.value[1]).strftime('%b''%Y')))\n",
    "            plt.tight_layout()\n",
    "    elif dropdown.value == 'Donut':\n",
    "        with out:\n",
    "            fig, ax = plt.subplots(figsize=(12, 6), subplot_kw=dict(aspect=\"equal\"))\n",
    "\n",
    "            labels = list(select_companies.value)\n",
    "            runs = []\n",
    "            for comp in labels:\n",
    "                comp_runs = test.loc[(test['Company Name'] == comp) \n",
    "                                     & (test['Date'] >= time_frame.value[0]) \n",
    "                                     & (test['Date'] <=time_frame.value[1])]\n",
    "                runs.append(sum(comp_runs['Num Runs']))\n",
    "            labels = [f'{l} - {s} Runs ({s*100/sum(runs):.2f}%)' for s,l in zip(runs, labels)]\n",
    "            wedges, texts = ax.pie(runs, wedgeprops=dict(width=0.5), startangle=-30)\n",
    "\n",
    "            bbox_props = dict(boxstyle=\"square,pad=0.3\", fc=\"w\", ec=\"k\", lw=0.72)\n",
    "            kw = dict(arrowprops=dict(arrowstyle=\"-\"),\n",
    "                      bbox=bbox_props, zorder=0, va=\"center\")\n",
    "            for i, p in enumerate(wedges):\n",
    "                ang = (p.theta2 - p.theta1)/2. + p.theta1\n",
    "                y = np.sin(np.deg2rad(ang))\n",
    "                x = np.cos(np.deg2rad(ang))\n",
    "                horizontalalignment = {-1: \"right\", 1: \"left\"}[int(np.sign(x))]\n",
    "                connectionstyle = \"angle,angleA=0,angleB={}\".format(ang)\n",
    "                kw[\"arrowprops\"].update({\"connectionstyle\": connectionstyle})\n",
    "                ax.annotate(labels[i], xy=(x, y), xytext=(1.2*np.sign(x), 1.4*y),\n",
    "                            horizontalalignment=horizontalalignment, **kw)\n",
    "            ax.set_title(\"Runs by Company between {}-{}\".format((time_frame.value[0]).strftime('%b''%Y'),\n",
    "                                                                (time_frame.value[1]).strftime('%b''%Y')))\n",
    "    elif dropdown.value == 'Line Plot':\n",
    "        with out:\n",
    "            temp_test =  test.loc[(test['Company Name'].isin(select_companies.value))]\n",
    "            temp_test = temp_test.pivot(index='Date', columns='Company Name', values='Num Runs')\n",
    "            temp_test[time_frame.value[0]:time_frame.value[1]].plot(figsize=(12, 6), \n",
    "                                                                    title= 'Runs Per Company By Month', \n",
    "                                                                    ylabel='Num Runs').legend(bbox_to_anchor=(1.05,1), \n",
    "                                                                                              loc='upper left')\n",
    "    elif dropdown.value == 'Stacked Bar':\n",
    "        with out:\n",
    "            temp_test =  test.loc[(test['Company Name'].isin(select_companies.value))]\n",
    "            temp_test = temp_test.pivot(index='Date', columns='Company Name', values='Num Runs')\n",
    "            temp_test[time_frame.value[0]:time_frame.value[1]].plot(kind= 'bar', stacked= True, figsize=(12, 6), \n",
    "                                                                    title= 'Runs Per Month By Company', \n",
    "                                                                    ylabel='Num Runs').legend(bbox_to_anchor=(1.05,1), \n",
    "                                                                                              loc='upper left')"
   ]
  },
  {
   "cell_type": "markdown",
   "id": "acceptable-saint",
   "metadata": {},
   "source": [
    "## Put It All Together"
   ]
  },
  {
   "cell_type": "code",
   "execution_count": 10,
   "id": "complex-luther",
   "metadata": {
    "scrolled": false
   },
   "outputs": [
    {
     "data": {
      "application/vnd.jupyter.widget-view+json": {
       "model_id": "5c48002d245c42058069e69ca7c7e5d5",
       "version_major": 2,
       "version_minor": 0
      },
      "text/plain": [
       "SelectMultiple(description='Companies:', index=(0, 1, 2, 3, 4, 5, 6, 7), options=('COMP-1', 'COMP-2', 'COMP-3'…"
      ]
     },
     "metadata": {},
     "output_type": "display_data"
    },
    {
     "data": {
      "application/vnd.jupyter.widget-view+json": {
       "model_id": "2b8f1f7371954e43b807a2121e0a6a0f",
       "version_major": 2,
       "version_minor": 0
      },
      "text/plain": [
       "SelectionRangeSlider(description='Date Range:', index=(0, 9), layout=Layout(width='400px'), options=(('Apr2020…"
      ]
     },
     "metadata": {},
     "output_type": "display_data"
    },
    {
     "data": {
      "application/vnd.jupyter.widget-view+json": {
       "model_id": "1617e66e35a34fbfafe96c3a8d77c2db",
       "version_major": 2,
       "version_minor": 0
      },
      "text/plain": [
       "Dropdown(description='Chart Types:', index=3, options=('Line Plot', 'Stacked Bar', 'Donut', 'Pie Chart'), valu…"
      ]
     },
     "metadata": {},
     "output_type": "display_data"
    },
    {
     "data": {
      "application/vnd.jupyter.widget-view+json": {
       "model_id": "d93fb1c7f1134c16b4780437b3e81802",
       "version_major": 2,
       "version_minor": 0
      },
      "text/plain": [
       "interactive(children=(Button(description='Run Interact', style=ButtonStyle()), Output()), _dom_classes=('widge…"
      ]
     },
     "metadata": {},
     "output_type": "display_data"
    },
    {
     "data": {
      "application/vnd.jupyter.widget-view+json": {
       "model_id": "d3fd58d1a51744448efb721a04754965",
       "version_major": 2,
       "version_minor": 0
      },
      "text/plain": [
       "Output()"
      ]
     },
     "metadata": {},
     "output_type": "display_data"
    }
   ],
   "source": [
    "display(select_companies)\n",
    "display(time_frame)\n",
    "display(dropdown)\n",
    "interact_manual(make_plot)\n",
    "display(out)"
   ]
  },
  {
   "cell_type": "markdown",
   "id": "incredible-tractor",
   "metadata": {},
   "source": [
    "Things to improve:\n",
    "1. (solved!) Figure out a way to have Chart Type update without re-running the cell \n",
    "2. Give companies their own unique color so they don't change when the desired companies selected change\n",
    "3. (solved!) Add date range selected to Pie and Donut plots\n",
    "5. Figure out why date on Stacked Bar plot looks so bad when it's based on line plot code....\n",
    "        https://stackoverflow.com/questions/30133280/pandas-bar-plot-changes-date-format\n",
    "6. Make stacked bar plot more understandable with multiple companies selected?\n",
    "7. Pie and donut still have overlapping labels sometimes...\n",
    "8. Use two DatePicker widgets to select start and end dates for data with longer timeframe?\n",
    "9. Prettier plots...\n"
   ]
  }
 ],
 "metadata": {
  "kernelspec": {
   "display_name": "Python 3",
   "language": "python",
   "name": "python3"
  },
  "language_info": {
   "codemirror_mode": {
    "name": "ipython",
    "version": 3
   },
   "file_extension": ".py",
   "mimetype": "text/x-python",
   "name": "python",
   "nbconvert_exporter": "python",
   "pygments_lexer": "ipython3",
   "version": "3.9.2"
  }
 },
 "nbformat": 4,
 "nbformat_minor": 5
}
